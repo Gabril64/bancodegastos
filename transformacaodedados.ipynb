{
 "cells": [
  {
   "cell_type": "code",
   "execution_count": null,
   "metadata": {},
   "outputs": [],
   "source": [
    "import zipfile\n",
    "import os\n",
    "import shutil\n",
    "import pdfplumber\n",
    "import pandas as pd"
   ]
  },
  {
   "cell_type": "code",
   "execution_count": null,
   "metadata": {},
   "outputs": [],
   "source": [
    "# Extrair arquivos do ZIP em uma pasta chamada \"extracao\"\n",
    "zip_path = \"Anexos.zip\"\n",
    "extract_path = \"extracao\"\n",
    "\n",
    "with zipfile.ZipFile(zip_path, \"r\") as zip_ref:\n",
    "    zip_ref.extractall(extract_path)\n",
    "\n",
    "# Nome do arquivo específico que queremos processar\n",
    "arquivo_alvo = \"Anexo_I.pdf\"\n",
    "pdf_path = os.path.join(extract_path, arquivo_alvo)\n",
    "\n"
   ]
  },
  {
   "cell_type": "code",
   "execution_count": null,
   "metadata": {},
   "outputs": [],
   "source": [
    "# Função para garantir que os nomes das colunas sejam únicos\n",
    "def renomear_colunas(colunas):\n",
    "    colunas_unicas = []\n",
    "    contador = {}\n",
    "    \n",
    "    for col in colunas:\n",
    "        if col not in colunas_unicas:\n",
    "            colunas_unicas.append(col)\n",
    "            contador[col] = 1\n",
    "        else:\n",
    "            novo_nome = f\"{col}_{contador[col]}\"\n",
    "            while novo_nome in colunas_unicas:\n",
    "                contador[col] += 1\n",
    "                novo_nome = f\"{col}_{contador[col]}\"\n",
    "            colunas_unicas.append(novo_nome)\n",
    "            contador[col] += 1\n",
    "    \n",
    "    return colunas_unicas"
   ]
  },
  {
   "cell_type": "code",
   "execution_count": null,
   "metadata": {},
   "outputs": [],
   "source": [
    "# Criar lista para armazenar as tabelas do Anexo_I.pdf\n",
    "tabelas = []\n",
    "\n",
    "# Processar apenas o arquivo Anexo_I.pdf\n",
    "if os.path.exists(pdf_path):  \n",
    "    try:\n",
    "        with pdfplumber.open(pdf_path) as pdf:\n",
    "            for page in pdf.pages:\n",
    "                table = page.extract_table()\n",
    "                if table and len(table) > 1:  # Verifica se há dados além do cabeçalho\n",
    "                    df = pd.DataFrame(table[1:], columns=table[0])\n",
    "                    df.columns = renomear_colunas(df.columns)\n",
    "                    tabelas.append(df)\n",
    "    except Exception as e:\n",
    "        print(f\"Erro ao processar {arquivo_alvo}: {e}\")\n",
    "    \n",
    "    if tabelas:\n",
    "        df_final = pd.concat(tabelas, ignore_index=True)\n",
    "        df_final.rename(columns={\"OD\": \"Seg. Odontológica\", \"AMB\": \"Seg. Ambulatorial\"}, inplace=True)\n",
    "        csv_path = \"tabela_anexo_1.csv\"\n",
    "        df_final.to_csv(csv_path, index=False)\n",
    "        \n",
    "        # Compactar o arquivo gerado\n",
    "        zip_saida = \"Teste_Gabriel.zip\"\n",
    "        with zipfile.ZipFile(zip_saida, \"w\", zipfile.ZIP_DEFLATED) as zipf:\n",
    "            zipf.write(csv_path)\n",
    "        \n",
    "        # Remover o arquivo CSV após compactação\n",
    "        os.remove(csv_path)\n",
    "        \n",
    "        print(\"Todas as tabelas extraídas do Anexo_I foram salvas, renomeadas e compactadas em Teste_Gabriel.zip\")\n",
    "        \n",
    "        # Remover a pasta de extração\n",
    "        shutil.rmtree(extract_path)\n",
    "        print(\"Pasta de extração removida.\")\n",
    "\n",
    "\n",
    "    else:\n",
    "        print(\"Nenhuma tabela foi extraída do Anexo_I.pdf.\")\n",
    "else:\n",
    "    print(f\"Arquivo {arquivo_alvo} não encontrado no ZIP extraído.\")\n"
   ]
  }
 ],
 "metadata": {
  "kernelspec": {
   "display_name": "Python 3",
   "language": "python",
   "name": "python3"
  },
  "language_info": {
   "codemirror_mode": {
    "name": "ipython",
    "version": 3
   },
   "file_extension": ".py",
   "mimetype": "text/x-python",
   "name": "python",
   "nbconvert_exporter": "python",
   "pygments_lexer": "ipython3",
   "version": "3.11.5"
  }
 },
 "nbformat": 4,
 "nbformat_minor": 2
}
