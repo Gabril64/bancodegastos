{
 "cells": [
  {
   "cell_type": "code",
   "execution_count": null,
   "metadata": {},
   "outputs": [],
   "source": [
    "from bs4 import BeautifulSoup\n",
    "import requests\n",
    "import zipfile"
   ]
  },
  {
   "cell_type": "code",
   "execution_count": null,
   "metadata": {},
   "outputs": [],
   "source": [
    "dominio = 'https://www.gov.br'\n",
    "URL = f'{dominio}/ans/pt-br/acesso-a-informacao/participacao-da-sociedade/atualizacao-do-rol-de-procedimentos'\n",
    "# Em caso de futura necessidade de alteração, a URL pode ser alterada para uma variável, sendo assim o foi deixado o dominio e o URL separados.\n",
    "headers = {'User-Agent': 'Mozilla/5.0'}\n",
    "pagina = requests.get(URL, headers = headers)"
   ]
  },
  {
   "cell_type": "code",
   "execution_count": null,
   "metadata": {},
   "outputs": [],
   "source": [
    "# Para garantir que o site esteja no ar iremos realizar através do if que a página está em funcionamento, caso esteja, ou seja, caso o código impresso seja 200.\n",
    "if pagina.status_code == 200:\n",
    "    # A partir do BeautifulSoup vamos realizar o parsing do HTML para que em seguida possamos buscar os links para download dos arquivos solicitados em PDF.\n",
    "    soup = BeautifulSoup(pagina.text, 'html.parser')\n",
    "    # Devido a necessidade de compactar o arquivo vou seguir criando uma lista para armazenar os dados dos arquivos baixados\n",
    "    arquivos_baixados = []\n",
    "\n",
    "    # Iremos buscar ambos os links agora.\n",
    "    link_anexo1 = soup.find('a', string=\"Anexo I.\")\n",
    "    if link_anexo1:\n",
    "        link_anexo1_url = link_anexo1.get('href')\n",
    "        # Após checar se o mesmo foi encontrado, iremos realizar o download do arquivo PDF do Anexo I.\n",
    "        response = requests.get(link_anexo1_url)\n",
    "        if response.status_code == 200:\n",
    "            # Ao invés de salvar o arquivo no disco, vamos adicionar diretamente ao arquivo ZIP\n",
    "            arquivos_baixados.append((\"Anexo_I.pdf\", response.content))\n",
    "            print(\"Anexo I foi devidamente instalado e será armazenado no arquivo ZIP.\")\n",
    "        else:\n",
    "            print(f\"Falha ao baixar o Anexo I. Status: {response.status_code}\")\n",
    "    else:\n",
    "        print(\"Link do Anexo I não encontrado.\")\n",
    "\n",
    "    # Usamos como parâmetro para localizar ambos os arquivos a classe \"a\" conforme orientado em seu código HTML, juntamente com o nome do próprio arquivo, afim de encontrar o arquivo em questão.\n",
    "    link_anexo2 = soup.find('a', string=\"Anexo II.\")\n",
    "    if link_anexo2:\n",
    "        link_anexo2_url = link_anexo2.get('href')\n",
    "        # Assim como no anexo I seguimos realizando a mesma ação no anexo II, realizando o download do arquivo PDF.\n",
    "        response = requests.get(link_anexo2_url)\n",
    "        if response.status_code == 200:\n",
    "            # Adicionar também ao arquivo ZIP\n",
    "            arquivos_baixados.append((\"Anexo_II.pdf\", response.content))\n",
    "            print(\"Anexo II foi devidamente instalado e será armazenado no arquivo ZIP.\")\n",
    "        else:\n",
    "            print(f\"Falha ao baixar o Anexo II. Status: {response.status_code}\")\n",
    "    else:\n",
    "        print(\"Link do Anexo II não encontrado.\")\n",
    "    \n",
    "    # Após listar todos os arquivos, iremos compactá-los em um único arquivo ZIP.\n",
    "    if arquivos_baixados:\n",
    "        with zipfile.ZipFile(\"Anexos.zip\", \"w\") as zipf:\n",
    "            for nome_arquivo, conteudo in arquivos_baixados:\n",
    "                zipf.writestr(nome_arquivo, conteudo)  # Salvando diretamente no ZIP\n",
    "        print(\"Os Arquivos foram compactados com sucesso em 'Anexos.zip'.\")\n",
    "else:\n",
    "    print(f\"Falha ao acessar a página. Status: {pagina.status_code}\") \n"
   ]
  },
  {
   "cell_type": "code",
   "execution_count": null,
   "metadata": {},
   "outputs": [],
   "source": []
  }
 ],
 "metadata": {
  "kernelspec": {
   "display_name": "Python 3",
   "language": "python",
   "name": "python3"
  },
  "language_info": {
   "codemirror_mode": {
    "name": "ipython",
    "version": 3
   },
   "file_extension": ".py",
   "mimetype": "text/x-python",
   "name": "python",
   "nbconvert_exporter": "python",
   "pygments_lexer": "ipython3",
   "version": "3.11.5"
  }
 },
 "nbformat": 4,
 "nbformat_minor": 2
}
